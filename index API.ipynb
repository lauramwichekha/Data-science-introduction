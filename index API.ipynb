{
  "cells": [
    {
      "cell_type": "markdown",
      "metadata": {
        "id": "view-in-github",
        "colab_type": "text"
      },
      "source": [
        "<a href=\"https://colab.research.google.com/github/lauramwichekha/Data-science-introduction/blob/main/index%20API.ipynb\" target=\"_parent\"><img src=\"https://colab.research.google.com/assets/colab-badge.svg\" alt=\"Open In Colab\"/></a>"
      ]
    },
    {
      "cell_type": "markdown",
      "metadata": {
        "id": "sb_LMntax740"
      },
      "source": [
        "\n",
        "## APIS for a Data Scientist\n",
        "\n",
        "**_APIs_** (short for **_Application Programming Interfaces_**)\n",
        "\n",
        "APIs are a way of standardizing interactions with software. From the provider's standpoint, it makes sure that everyone will interact with their software in a way that they are expecting. From the user's standpoint, it provides easy instructions and methods for working with 3rd party software, which opens up a ton of useful benefits by allowing us to get data from other sources, or add functionality by incorporating services from 3rd party software!\n"
      ]
    },
    {
      "cell_type": "markdown",
      "metadata": {
        "id": "-QDzkL36x74_"
      },
      "source": [
        "### What is an API made of ?\n",
        "\n",
        "An API has three main components as listed below:\n",
        "\n",
        "- **Access Permissions:** Is the user allowed to ask for data or services?\n",
        "- **Request:** The service being asked for. A Request has two main parts:\n",
        "    \n",
        "    - **Methods:** Once the access is permitted, what questions can be asked.\n",
        "    - **Parameters:** Additional details that can be sent with requests or responses\n",
        "- **Response:** The data or service as a result of the request.\n",
        "    "
      ]
    },
    {
      "cell_type": "markdown",
      "metadata": {
        "id": "RiSWxsP1x75B"
      },
      "source": [
        "![image.png](attachment:image.png)"
      ]
    },
    {
      "cell_type": "markdown",
      "metadata": {
        "id": "0605akwRx75C"
      },
      "source": [
        "## The Client Server Model\n",
        "\n",
        "The client server model of communication technologies is a set of distributed application architecture and network operations that manages the workloads between the providers of a service, called **servers**, and service requester, called **clients**.\n"
      ]
    },
    {
      "cell_type": "markdown",
      "metadata": {
        "id": "WFe856_9x75D"
      },
      "source": [
        "### What is a Client?\n",
        "\n",
        "A client is a computer hardware device or software that requests a service made available by a server. The server is often (but not always) located on a separate physical computer.\n",
        "\n",
        "### What is a Server?\n",
        "\n",
        "A server is a physical computer dedicated to run services to serve the needs of clients. Depending on the service that is running, it could be a file server, database server, home media server, print server, email server or a **web server**."
      ]
    },
    {
      "cell_type": "markdown",
      "metadata": {
        "id": "JMBpO31Bx75E"
      },
      "source": [
        "### Client/Server Model on the Web\n",
        "\n",
        "The idea of a Client and Server communicating over a network is what makes viewing websites and interacting with Web applications (like Gmail, Facebook, LinkedIn) possible. This model is a way to describe the give-and-take relationship between the client and server in a Web application and governs how information passes between computers.\n"
      ]
    },
    {
      "cell_type": "markdown",
      "metadata": {
        "id": "F-4kFoocx75F"
      },
      "source": [
        "## HTTP Request Response Lifecycle"
      ]
    },
    {
      "cell_type": "markdown",
      "metadata": {
        "id": "5cuo0btvx75F"
      },
      "source": [
        "The HTTP (Hypertext Transfer Protocol) request-response lifecycle is a fundamental concept in web development, outlining the communication process between a client (such as a web browser) and a server. Here's a breakdown of the key stages:\n",
        "\n",
        "1. **Client Sends a Request**: The lifecycle begins when a client, typically a web browser, initiates a request to the server. This request contains various components, including:\n",
        "   - **HTTP Method**: Specifies the type of action the client wants to perform (e.g., GET, POST, PUT, DELETE).\n",
        "   - **URL (Uniform Resource Locator)**: Identifies the resource the client is requesting from the server.\n",
        "   - **Headers**: Additional information sent with the request, such as the type of data the client can accept, authentication credentials, and more.\n",
        "   - **Body (optional)**: Data sent to the server, typically used in POST or PUT requests to send form data, JSON, or other content.\n",
        "\n",
        "2. **Server Processes the Request**: Upon receiving the request, the server processes it based on the provided information. This involves:\n",
        "   - **Routing**: Determining which part of the server should handle the request based on the URL and possibly other factors like request method or headers.\n",
        "   - **Authentication and Authorization**: Checking if the client is authorized to access the requested resource, which may involve validating credentials or permissions.\n",
        "   - **Business Logic**: Executing the necessary code or operations to fulfill the request, which could involve querying a database, interacting with other systems, or performing calculations.\n",
        "   - **Generating a Response**: Once the server has processed the request and gathered the necessary data, it constructs an HTTP response to send back to the client.\n",
        "\n",
        "3. **Server Sends a Response**: The server sends an HTTP response back to the client in response to its request. This response includes:\n",
        "   - **Status Code**: A three-digit code indicating the outcome of the request (e.g., 200 for success, 404 for \"Not Found\", 500 for \"Internal Server Error\").\n",
        "   - **Headers**: Additional metadata accompanying the response, such as the type of data being sent, caching directives, and more.\n",
        "   - **Body**: The main content of the response, which could be HTML for a web page, JSON for an API response, or other formats depending on the request and server configuration.\n",
        "\n",
        "4. **Client Receives and Processes the Response**: Finally, the client receives the response from the server and processes it accordingly. This typically involves:\n",
        "   - **Parsing**: Extracting relevant information from the response, such as status code, headers, and response body.\n",
        "   - **Rendering**: Displaying the received content to the user (in the case of a web browser), which may involve rendering HTML, rendering JSON data, or handling other types of content appropriately.\n",
        "\n",
        "Throughout this lifecycle, communication between the client and server follows a request-response pattern, allowing for the exchange of data and interactions that power the modern web."
      ]
    },
    {
      "cell_type": "markdown",
      "metadata": {
        "id": "AdAQx2y3x75H"
      },
      "source": [
        "## HTTP Request Methods\n",
        "\n",
        "1. **GET**: Used to request data from a specified resource. GET requests should only retrieve data and not modify it. Parameters can be sent in the URL's query string.\n",
        "\n",
        "2. **POST**: Used to submit data to be processed to a specified resource. POST requests can send data in the request body, allowing for more complex data structures.\n",
        "\n",
        "3. **PUT**: Used to update an existing resource or create a new one if it doesn't exist. PUT requests typically send the entire updated resource in the request body.\n",
        "\n",
        "4. **DELETE**: Used to delete a specified resource.\n",
        "\n",
        "5. **PATCH**: Similar to PUT, but it only updates the specified fields of an existing resource rather than replacing the entire resource.\n",
        "\n",
        "6. **HEAD**: Similar to GET, but it only retrieves the response headers, without the response body. It's often used to check the status of a resource without downloading its entire content.\n",
        "\n",
        "7. **OPTIONS**: Used to describe the communication options for the target resource, such as supported request methods or available headers.\n",
        "\n",
        "8. **TRACE**: Echoes back the received request to the client, useful for debugging or testing purposes.\n",
        "\n",
        "9. **CONNECT**: Used to establish a tunnel to the server identified by the target resource.\n",
        "\n",
        "These methods define the actions that can be performed on a given resource, providing a standardized way for clients to interact with servers over the HTTP protocol."
      ]
    },
    {
      "cell_type": "markdown",
      "metadata": {
        "id": "6ub4xrGQx75I"
      },
      "source": [
        "## Oauth\n",
        "\n",
        "OAuth (Open Authorization) is an open-standard authorization protocol that allows third-party services to securely access a user's resources without needing to expose the user's credentials. It's commonly used for enabling single sign-on (SSO) and delegated access scenarios, where a user can grant one application (the \"client\") permission to access resources on another application (the \"resource server\") on their behalf, without sharing their password.\n",
        "\n",
        "Here's a brief explanation of how OAuth works:\n",
        "\n",
        "1. **User Authorization**: The process begins when a user wants to grant access to their resources (such as data or functionality) on a service (the \"resource server\") to another application (the \"client\"). The user typically initiates this process by clicking a button or link provided by the client.\n",
        "\n",
        "2. **Authorization Request**: The client sends an authorization request to the authorization server, which includes details such as the client's identity, the requested scope of access (e.g., read-only or read-write), and a redirect URI where the user will be redirected after granting or denying access.\n",
        "\n",
        "3. **User Authentication and Consent**: The authorization server authenticates the user and prompts them to authorize the requested access. If the user consents, they are redirected back to the client's redirect URI along with an authorization code or access token.\n",
        "\n",
        "4. **Token Exchange**: The client exchanges the authorization code for an access token by sending a token request to the authorization server. The authorization server verifies the authorization code and, if valid, issues an access token to the client.\n",
        "\n",
        "5. **Accessing Protected Resources**: The client can now use the access token to make authorized requests to the resource server on behalf of the user. The resource server validates the access token and, if valid, provides access to the requested resources.\n",
        "\n",
        "OAuth provides a secure and standardized way for applications to access resources on behalf of users without needing their credentials, enhancing security and user experience by reducing the need for users to share sensitive information."
      ]
    },
    {
      "cell_type": "markdown",
      "metadata": {
        "id": "KINAA_Rgx75K"
      },
      "source": [
        "## Api Examples"
      ]
    },
    {
      "cell_type": "markdown",
      "metadata": {
        "id": "ukk8REkix75L"
      },
      "source": [
        "imports"
      ]
    },
    {
      "cell_type": "code",
      "execution_count": null,
      "metadata": {
        "id": "ku1WIFm8x75M"
      },
      "outputs": [],
      "source": []
    },
    {
      "cell_type": "markdown",
      "metadata": {
        "id": "Pua2klmGx75O"
      },
      "source": [
        "GET example"
      ]
    },
    {
      "cell_type": "code",
      "execution_count": null,
      "metadata": {
        "id": "SMO6doqdx75P"
      },
      "outputs": [],
      "source": []
    },
    {
      "cell_type": "markdown",
      "metadata": {
        "id": "V6s5z3jvx75Q"
      },
      "source": [
        "POST example"
      ]
    },
    {
      "cell_type": "code",
      "execution_count": null,
      "metadata": {
        "id": "KggMIIfLx75S"
      },
      "outputs": [],
      "source": []
    },
    {
      "cell_type": "markdown",
      "metadata": {
        "id": "06sK6oNHx75T"
      },
      "source": [
        "PATCH example"
      ]
    },
    {
      "cell_type": "code",
      "execution_count": null,
      "metadata": {
        "id": "lfM1lXBUx75U"
      },
      "outputs": [],
      "source": []
    },
    {
      "cell_type": "markdown",
      "metadata": {
        "id": "ls8yyHv0x75V"
      },
      "source": [
        "DELETE example"
      ]
    },
    {
      "cell_type": "code",
      "execution_count": null,
      "metadata": {
        "id": "SE17fI3Gx75V"
      },
      "outputs": [],
      "source": []
    },
    {
      "cell_type": "markdown",
      "metadata": {
        "id": "p2SOGBxex75W"
      },
      "source": [
        "## APIS To Test On"
      ]
    },
    {
      "cell_type": "markdown",
      "metadata": {
        "id": "IXq0mnkCx75W"
      },
      "source": [
        "https://free-apis.github.io/#/browse"
      ]
    }
  ],
  "metadata": {
    "language_info": {
      "name": "python"
    },
    "colab": {
      "provenance": [],
      "include_colab_link": true
    }
  },
  "nbformat": 4,
  "nbformat_minor": 0
}